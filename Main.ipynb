{
 "cells": [
  {
   "cell_type": "markdown",
   "metadata": {},
   "source": [
    "# Caso de Estudio COVID-19"
   ]
  },
  {
   "cell_type": "markdown",
   "metadata": {},
   "source": [
    "Laura Tamath |  Martín España | Sofía Rueda"
   ]
  },
  {
   "cell_type": "code",
   "execution_count": 1,
   "metadata": {},
   "outputs": [],
   "source": [
    "import pandas as pd\n",
    "import numpy as np\n",
    "import seaborn as sns\n",
    "import datetime \n",
    "import matplotlib.pyplot as plt\n",
    "sns.set()"
   ]
  },
  {
   "cell_type": "markdown",
   "metadata": {},
   "source": [
    "Renombrar columnas para que tengan un formato standard"
   ]
  },
  {
   "cell_type": "code",
   "execution_count": 2,
   "metadata": {},
   "outputs": [],
   "source": [
    "'''\n",
    "Cambia el nombre de las columnas del archivo de datos sin procesar, para que\n",
    "estos sean mas legibles y todos esten en formato de minusculas\n",
    "'''\n",
    "def covid_rename_columns(input_data):\n",
    "    output_data = input_data.rename(\n",
    "        columns = {'Province/State':'subregion',\n",
    "                'Country/Region':'country',\n",
    "                'Lat':'lat',\n",
    "                'Long':'long'\n",
    "        }\n",
    "    )\n",
    "    return(output_data)"
   ]
  },
  {
   "cell_type": "markdown",
   "metadata": {},
   "source": [
    "Reformatear los datos para que queden en una forma “tidy”"
   ]
  },
  {
   "cell_type": "code",
   "execution_count": 3,
   "metadata": {},
   "outputs": [],
   "source": [
    "'''\n",
    "Como en los datos sin procesar, las fechas estan como columnas separadas, entonces se \n",
    "crea un proceso donde se remodela la fecha para crear una nueva columna de fechas, llamada DATE_RAW\n",
    "y una columna de value_Var_name \n",
    "'''\n",
    "def covid_melt_data(input_data, value_var_name):\n",
    "    output_data = input_data.melt(id_vars = ['country','subregion', 'lat', 'long'],\n",
    "                                var_name ='date_RAW',\n",
    "                                value_name = value_var_name\n",
    "    )\n",
    "    return(output_data)"
   ]
  },
  {
   "cell_type": "markdown",
   "metadata": {},
   "source": [
    "Convertir las fechas al formato datetime"
   ]
  },
  {
   "cell_type": "code",
   "execution_count": 4,
   "metadata": {},
   "outputs": [],
   "source": [
    "'''\n",
    "Se desea tener el formato de fecha y hora.\n",
    "Dentro de esta función se usa el metodo de asignación de Pandas para crear una nueva \n",
    "variable, así se convierten los datos de date_RAW al formato desedo (que estan en formato de cadena).\n",
    "'''\n",
    "def covid_convert_dates(input_data):\n",
    "    output_data = input_data.assign(\n",
    "        date = pd.to_datetime(input_data.date_RAW, format='%m/%d/%y')\n",
    "    )\n",
    "    output_data.drop(columns=['date_RAW'], inplace=True)\n",
    "    return(output_data)"
   ]
  },
  {
   "cell_type": "markdown",
   "metadata": {},
   "source": [
    "Re-ordenar los datos:  colocar la fecha entre las primeras columnas, ordenar los registros por país y fecha"
   ]
  },
  {
   "cell_type": "code",
   "execution_count": 5,
   "metadata": {},
   "outputs": [],
   "source": [
    "'''\n",
    "Como las filas y columnas estaban desordenadas, con esta funcion se reordenan los datos para poner el pais, subregion, fecha, lat y long.\n",
    "\n",
    "'''\n",
    "def covid_rearrange_data(input_data, value_var_name):\n",
    "    output_data = (input_data.filter(['country','subregion','date','lat','long',value_var_name]).sort_values(['country','subregion','date','lat','long']).reset_index(drop=True))\n",
    "    return(output_data)\n"
   ]
  },
  {
   "cell_type": "code",
   "execution_count": 6,
   "metadata": {},
   "outputs": [],
   "source": [
    "'''\n",
    "Como los datos son a tiempo real, se debe de insertar la URL, no el archivo tal cual.\n",
    "el segundo parametro es value_var_name porque asi se va a poder crerar diferentes variables para los disitintos\n",
    "conjuntos de datos.\n",
    "'''\n",
    "def covid_get_data(input_url, value_var_name):\n",
    "    covid_data_inprocess = pd.read_csv(input_url)\n",
    "    covid_data_inprocess = covid_rename_columns(covid_data_inprocess)\n",
    "    covid_data_inprocess = covid_melt_data(covid_data_inprocess, value_var_name)\n",
    "    covid_data_inprocess = covid_convert_dates(covid_data_inprocess)\n",
    "    covid_data_inprocess = covid_rearrange_data(covid_data_inprocess, value_var_name)\n",
    "    return(covid_data_inprocess)"
   ]
  },
  {
   "cell_type": "markdown",
   "metadata": {},
   "source": [
    "Cargar datos"
   ]
  },
  {
   "cell_type": "code",
   "execution_count": 7,
   "metadata": {},
   "outputs": [],
   "source": [
    "url_confirmed = 'https://data.humdata.org/hxlproxy/api/data-preview.csv?url=https%3A%2F%2Fraw.githubusercontent.com%2FCSSEGISandData%2FCOVID-19%2Fmaster%2Fcsse_covid_19_data%2Fcsse_covid_19_time_series%2Ftime_series_covid19_confirmed_global.csv&filename=time_series_covid19_confirmed_global.csv'\n",
    "url_deaths = 'https://data.humdata.org/hxlproxy/api/data-preview.csv?url=https%3A%2F%2Fraw.githubusercontent.com%2FCSSEGISandData%2FCOVID-19%2Fmaster%2Fcsse_covid_19_data%2Fcsse_covid_19_time_series%2Ftime_series_covid19_deaths_global.csv&filename=time_series_covid19_deaths_global.csv'\n",
    "url_recovered = 'https://data.humdata.org/hxlproxy/api/data-preview.csv?url=https%3A%2F%2Fraw.githubusercontent.com%2FCSSEGISandData%2FCOVID-19%2Fmaster%2Fcsse_covid_19_data%2Fcsse_covid_19_time_series%2Ftime_series_covid19_recovered_global.csv&filename=time_series_covid19_recovered_global.csv'\n",
    "\n",
    "covid_confirmed = covid_get_data(url_confirmed, 'confirmed')\n",
    "covid_deaths = covid_get_data(url_deaths, 'dead')\n",
    "covid_recovered = covid_get_data(url_recovered,'recovered')"
   ]
  },
  {
   "cell_type": "code",
   "execution_count": 8,
   "metadata": {},
   "outputs": [
    {
     "name": "stdout",
     "output_type": "stream",
     "text": [
      "            country subregion       date        lat       long  confirmed\n",
      "0       Afghanistan       NaN 2020-01-22  33.939110  67.709953          0\n",
      "1       Afghanistan       NaN 2020-01-23  33.939110  67.709953          0\n",
      "2       Afghanistan       NaN 2020-01-24  33.939110  67.709953          0\n",
      "3       Afghanistan       NaN 2020-01-25  33.939110  67.709953          0\n",
      "4       Afghanistan       NaN 2020-01-26  33.939110  67.709953          0\n",
      "...             ...       ...        ...        ...        ...        ...\n",
      "286683     Zimbabwe       NaN 2022-10-05 -19.015438  29.154857     257568\n",
      "286684     Zimbabwe       NaN 2022-10-06 -19.015438  29.154857     257655\n",
      "286685     Zimbabwe       NaN 2022-10-07 -19.015438  29.154857     257655\n",
      "286686     Zimbabwe       NaN 2022-10-08 -19.015438  29.154857     257655\n",
      "286687     Zimbabwe       NaN 2022-10-09 -19.015438  29.154857     257655\n",
      "\n",
      "[286688 rows x 6 columns]\n"
     ]
    }
   ],
   "source": [
    "print(covid_confirmed)"
   ]
  },
  {
   "cell_type": "code",
   "execution_count": 9,
   "metadata": {},
   "outputs": [
    {
     "name": "stdout",
     "output_type": "stream",
     "text": [
      "            country subregion       date        lat       long  dead\n",
      "0       Afghanistan       NaN 2020-01-22  33.939110  67.709953     0\n",
      "1       Afghanistan       NaN 2020-01-23  33.939110  67.709953     0\n",
      "2       Afghanistan       NaN 2020-01-24  33.939110  67.709953     0\n",
      "3       Afghanistan       NaN 2020-01-25  33.939110  67.709953     0\n",
      "4       Afghanistan       NaN 2020-01-26  33.939110  67.709953     0\n",
      "...             ...       ...        ...        ...        ...   ...\n",
      "286683     Zimbabwe       NaN 2022-10-05 -19.015438  29.154857  5603\n",
      "286684     Zimbabwe       NaN 2022-10-06 -19.015438  29.154857  5604\n",
      "286685     Zimbabwe       NaN 2022-10-07 -19.015438  29.154857  5604\n",
      "286686     Zimbabwe       NaN 2022-10-08 -19.015438  29.154857  5604\n",
      "286687     Zimbabwe       NaN 2022-10-09 -19.015438  29.154857  5604\n",
      "\n",
      "[286688 rows x 6 columns]\n"
     ]
    }
   ],
   "source": [
    "print(covid_deaths)"
   ]
  },
  {
   "cell_type": "code",
   "execution_count": 10,
   "metadata": {},
   "outputs": [
    {
     "name": "stdout",
     "output_type": "stream",
     "text": [
      "            country subregion       date        lat       long  recovered\n",
      "0       Afghanistan       NaN 2020-01-22  33.939110  67.709953          0\n",
      "1       Afghanistan       NaN 2020-01-23  33.939110  67.709953          0\n",
      "2       Afghanistan       NaN 2020-01-24  33.939110  67.709953          0\n",
      "3       Afghanistan       NaN 2020-01-25  33.939110  67.709953          0\n",
      "4       Afghanistan       NaN 2020-01-26  33.939110  67.709953          0\n",
      "...             ...       ...        ...        ...        ...        ...\n",
      "271803     Zimbabwe       NaN 2022-10-05 -19.015438  29.154857          0\n",
      "271804     Zimbabwe       NaN 2022-10-06 -19.015438  29.154857          0\n",
      "271805     Zimbabwe       NaN 2022-10-07 -19.015438  29.154857          0\n",
      "271806     Zimbabwe       NaN 2022-10-08 -19.015438  29.154857          0\n",
      "271807     Zimbabwe       NaN 2022-10-09 -19.015438  29.154857          0\n",
      "\n",
      "[271808 rows x 6 columns]\n"
     ]
    }
   ],
   "source": [
    "print(covid_recovered)"
   ]
  },
  {
   "cell_type": "code",
   "execution_count": 11,
   "metadata": {},
   "outputs": [
    {
     "name": "stdout",
     "output_type": "stream",
     "text": [
      "286688\n",
      "286688\n",
      "271808\n"
     ]
    }
   ],
   "source": [
    "print(len(covid_confirmed))\n",
    "print(len(covid_deaths))\n",
    "print(len(covid_recovered))"
   ]
  },
  {
   "cell_type": "markdown",
   "metadata": {},
   "source": [
    "Fusión (Merge) de los tres archivos en uno solo,eliminando columnas repetidas"
   ]
  },
  {
   "cell_type": "code",
   "execution_count": 12,
   "metadata": {},
   "outputs": [],
   "source": [
    "covid_deaths.drop(columns = ['lat', 'long'], inplace = True)\n",
    "covid_recovered.drop(columns = ['lat', 'long'], inplace = True)"
   ]
  },
  {
   "cell_type": "code",
   "execution_count": 13,
   "metadata": {},
   "outputs": [],
   "source": [
    "covid_data = (covid_confirmed\n",
    ".merge(covid_deaths, on = ['country','subregion','date'], how ='left')\n",
    ".merge(covid_recovered, on = ['country','subregion','date'], how ='left')\n",
    ")"
   ]
  },
  {
   "cell_type": "code",
   "execution_count": 14,
   "metadata": {},
   "outputs": [
    {
     "name": "stdout",
     "output_type": "stream",
     "text": [
      "            country subregion       date        lat       long  confirmed  \\\n",
      "0       Afghanistan       NaN 2020-01-22  33.939110  67.709953          0   \n",
      "1       Afghanistan       NaN 2020-01-23  33.939110  67.709953          0   \n",
      "2       Afghanistan       NaN 2020-01-24  33.939110  67.709953          0   \n",
      "3       Afghanistan       NaN 2020-01-25  33.939110  67.709953          0   \n",
      "4       Afghanistan       NaN 2020-01-26  33.939110  67.709953          0   \n",
      "...             ...       ...        ...        ...        ...        ...   \n",
      "286683     Zimbabwe       NaN 2022-10-05 -19.015438  29.154857     257568   \n",
      "286684     Zimbabwe       NaN 2022-10-06 -19.015438  29.154857     257655   \n",
      "286685     Zimbabwe       NaN 2022-10-07 -19.015438  29.154857     257655   \n",
      "286686     Zimbabwe       NaN 2022-10-08 -19.015438  29.154857     257655   \n",
      "286687     Zimbabwe       NaN 2022-10-09 -19.015438  29.154857     257655   \n",
      "\n",
      "        dead  recovered  \n",
      "0          0        0.0  \n",
      "1          0        0.0  \n",
      "2          0        0.0  \n",
      "3          0        0.0  \n",
      "4          0        0.0  \n",
      "...      ...        ...  \n",
      "286683  5603        0.0  \n",
      "286684  5604        0.0  \n",
      "286685  5604        0.0  \n",
      "286686  5604        0.0  \n",
      "286687  5604        0.0  \n",
      "\n",
      "[286688 rows x 8 columns]\n"
     ]
    }
   ],
   "source": [
    "print(covid_data)"
   ]
  },
  {
   "cell_type": "markdown",
   "metadata": {},
   "source": [
    "Realización de un Análisis Exploratorio de Datos."
   ]
  },
  {
   "cell_type": "markdown",
   "metadata": {},
   "source": [
    "Generación de nueva información calculando nuevas columnas como:\n",
    "- casos nuevos por día, \n",
    "- casos infectados"
   ]
  },
  {
   "cell_type": "markdown",
   "metadata": {},
   "source": [
    "Normalización de los datos re-calculando todo en base de “por millón de habitantes\""
   ]
  },
  {
   "cell_type": "markdown",
   "metadata": {},
   "source": [
    "Realización de visualizaciones interactivas, simples, que podrían ser de interés para alguien\n",
    "que esté real"
   ]
  }
 ],
 "metadata": {
  "kernelspec": {
   "display_name": "Python 3.9.13 64-bit (microsoft store)",
   "language": "python",
   "name": "python3"
  },
  "language_info": {
   "codemirror_mode": {
    "name": "ipython",
    "version": 3
   },
   "file_extension": ".py",
   "mimetype": "text/x-python",
   "name": "python",
   "nbconvert_exporter": "python",
   "pygments_lexer": "ipython3",
   "version": "3.9.13"
  },
  "orig_nbformat": 4,
  "vscode": {
   "interpreter": {
    "hash": "b2e82e792ab2fe1f79a1681212c8a0df90a82b1b30c69f8528b93f57968011e2"
   }
  }
 },
 "nbformat": 4,
 "nbformat_minor": 2
}
